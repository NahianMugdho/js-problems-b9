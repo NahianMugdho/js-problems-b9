{
 "cells": [
  {
   "cell_type": "markdown",
   "metadata": {},
   "source": [
    "<<h2>Problem-01: Help the Zoo Manager</h2>\n",
    "\n",
    "⚠️ Function Name Must be calculateMoney()\n",
    "\n",
    "Baker is the manager of the Mirpur Zoo. Every day, he sells numerous tickets, but he often makes mistakes while calculating the total money. Since you're becoming a developer, Baker has asked for your help. You need to create a function named calculateMoney() for Baker. This function should take the number of tickets sold as input and calculate how much money Baker has left after covering all expenses.\n",
    "\n",
    "Each ticket is sold for 120 BDT. For daily expenses, Baker has to pay 500 BDT to one security guard, and he also spends 50 BDT on lunch for each of the 8 staff members.\n",
    "\n",
    "Input:\n",
    "The function will take the number of tickets sold as input. The input will be a positive number (0 <= Input).\n",
    "\n",
    "Output:\n",
    "The function should calculate the total income from ticket sales and deduct the expenses. The output will be how much money Baker has left after covering all expenses. The output can be either a positive or negative number.\n",
    "\n",
    "💡 For example, if the input is 10, the output will be:\n",
    "(10 * 120) - (500 + (8 * 50)) = 300.\n",
    "\n",
    "Challenge 📢: If Baker provides a negative number as input, you need to return an error message as the output.\n",
    "\n"
   ]
  },
  {
   "cell_type": "code",
   "execution_count": 2,
   "metadata": {
    "dotnet_interactive": {
     "language": "javascript"
    },
    "polyglot_notebook": {
     "kernelName": "javascript"
    },
    "vscode": {
     "languageId": "polyglot-notebook"
    }
   },
   "outputs": [
    {
     "data": {
      "text/plain": [
       "125700"
      ]
     },
     "metadata": {},
     "output_type": "display_data"
    }
   ],
   "source": [
    "function calculateMoney( sale)\n",
    "{\n",
    "    tkt_price = 120;\n",
    "    guard = 500;\n",
    "    launch = 8*50;\n",
    "    total = (sale*tkt_price)-(guard+launch)\n",
    "    if(total>=0)\n",
    "    {\n",
    "        \n",
    "        return total\n",
    "    }\n",
    "    else{\n",
    "        total = \"invalid\"\n",
    "        return total\n",
    "    }\n",
    "\n",
    "}\n",
    "\n",
    "v=calculateMoney(1055)\n",
    "console.log(v)"
   ]
  },
  {
   "cell_type": "markdown",
   "metadata": {},
   "source": [
    "<h2>Problem 2: Good Name, Bad Name</h2>\n",
    "Function Name: checkName()\n",
    "\n",
    "Scenario:\n",
    "Salman and his wife have a newborn son. They want to give their son a good name, but in their village, people often mispronounce names. For instance, they might call \"Salman\" as \"Salmainya\" or \"Jafor\" as \"Jafairya\". Salman wants to avoid his son being teased in this way.\n",
    "\n",
    "Salman has observed that names ending with vowels (a, e, i, o, u) or 'w' are generally not mispronounced, such as \"Tonoy\", \"utsho\", \"Roide\", \"shanto\".\n",
    "\n",
    "Task:\n",
    "Create a function named checkName() that takes a name as a string input. The function should determine if the name is suitable or not. If the name is suitable, return \"Good Name\"; otherwise, return \"Bad Name\".\n",
    "\n",
    "Input:\n",
    "\n",
    "A string representing a name. The characters can be uppercase or lowercase.\n",
    "Output:\n",
    "\n",
    "A string: \"Good Name\" or \"Bad Name\".\n",
    "Challenge:\n",
    "\n",
    "If the input is not a string, the function should return \"invalid\"."
   ]
  },
  {
   "cell_type": "code",
   "execution_count": 34,
   "metadata": {
    "dotnet_interactive": {
     "language": "javascript"
    },
    "polyglot_notebook": {
     "kernelName": "javascript"
    },
    "vscode": {
     "languageId": "polyglot-notebook"
    }
   },
   "outputs": [
    {
     "data": {
      "text/plain": [
       "good name"
      ]
     },
     "metadata": {},
     "output_type": "display_data"
    }
   ],
   "source": [
    "function checkName(name){\n",
    "    if (typeof name !=='string')\n",
    "    {\n",
    "        v= 'invalid'\n",
    "        return v\n",
    "    }\n",
    "   \n",
    "    // a, y, i , e , o , u, w\n",
    "k=name.toLowerCase()   \n",
    "k =k.split('');\n",
    "if (k[k.length-1] == 'a' || k[k.length-1]=='y' || k[k.length-1]=='i' || k[k.length-1]=='e' || k[k.length-1]==='o' || k[k.length-1]=='u'|| k[k.length-1] == 'w'  )\n",
    "{\n",
    "   v = \"good name\";\n",
    "   return v\n",
    "}\n",
    "else{\n",
    "    v = \"bad name\";\n",
    "    return v\n",
    "}\n",
    "\n",
    "\n",
    "\n",
    "}\n",
    "\n",
    "let c = \"RaFEE\"\n",
    "console.log (checkName(c))"
   ]
  },
  {
   "cell_type": "markdown",
   "metadata": {},
   "source": [
    "<h2>Problem 03: Virus in my Array</h2>\n",
    "\n",
    "⚠️ Function Name Must be deleteInvalids()\n",
    "\n",
    "You need to create a function named deleteInvalids() that takes an array as input. The function will return another array containing only the numeric values. In other words, the function should remove all elements from the array that are not numbers and return a new array with only the numbers.\n",
    "\n",
    "For example, if you pass the array [NaN, 1, 12, 0, -1, undefined] to this function, it will return [1, 12, 0, -1].\n",
    "\n",
    "Input:\n",
    "The function will take an array as input. The elements of the array can be of any data type.\n",
    "Output:\n",
    "The function will return another array, containing only the numeric values.\n",
    "Challenge 📢:\n",
    "If anything other than an array is passed to the function, it should return an error message."
   ]
  },
  {
   "cell_type": "code",
   "execution_count": 1,
   "metadata": {
    "dotnet_interactive": {
     "language": "javascript"
    },
    "polyglot_notebook": {
     "kernelName": "javascript"
    },
    "vscode": {
     "languageId": "polyglot-notebook"
    }
   },
   "outputs": [
    {
     "data": {
      "application/json": [
       1,
       2,
       -3
      ]
     },
     "metadata": {},
     "output_type": "display_data"
    }
   ],
   "source": [
    "function  deleteInvalids(arr){\n",
    "    emp = []\n",
    "    if (Array.isArray(arr)== false)\n",
    "    {\n",
    "        k = \"error input\"\n",
    "        return k\n",
    "        \n",
    "    \n",
    "    }\n",
    "    else{\n",
    "\n",
    "    for(let i=0;i<arr.length;i++){\n",
    "\n",
    "        num= arr[i]\n",
    "        if (typeof num == 'number' && isNaN(num) == false){\n",
    "            \n",
    "            emp.push(num)\n",
    "        }\n",
    "       \n",
    "        else{\n",
    "            continue\n",
    "        }\n",
    "        \n",
    "\n",
    "    }\n",
    "\n",
    "    return emp\n",
    "}\n",
    "}\n",
    "\n",
    "arr = [ 1 , 2 , -3 ]\n",
    "h = deleteInvalids(arr)\n",
    "console.log(h)\n",
    "\n"
   ]
  },
  {
   "cell_type": "markdown",
   "metadata": {},
   "source": [
    "<h2>Problem 04: Make A Great Password</h2>\n",
    "\n",
    "Kalimuddin Sahab bought a new phone and visits different websites and apps to create accounts. However, he struggles to remember passwords. He needs a function that will generate a memorable password based on his information and the website name.\n",
    "\n",
    "You need to write a function called password() that will help Kalimuddin generate a memorable password using his information and the website name.\n",
    "\n",
    "Input:\n",
    "\n",
    "The function will take an object as input with exactly three properties:\n",
    "{ name: \"kolimuddin\", birthYear: 1999, siteName: \"google\" }\n",
    "Output:\n",
    "\n",
    "The function should return a password generated using the input object's values."
   ]
  },
  {
   "cell_type": "code",
   "execution_count": 51,
   "metadata": {
    "dotnet_interactive": {
     "language": "javascript"
    },
    "polyglot_notebook": {
     "kernelName": "javascript"
    },
    "vscode": {
     "languageId": "polyglot-notebook"
    }
   },
   "outputs": [
    {
     "data": {
      "text/plain": [
       "kolimuddin"
      ]
     },
     "metadata": {},
     "output_type": "display_data"
    },
    {
     "data": {
      "text/plain": [
       "1999"
      ]
     },
     "metadata": {},
     "output_type": "display_data"
    },
    {
     "data": {
      "text/plain": [
       "google"
      ]
     },
     "metadata": {},
     "output_type": "display_data"
    },
    {
     "data": {
      "application/json": [
       "kolimuddin",
       1999,
       "google"
      ]
     },
     "metadata": {},
     "output_type": "display_data"
    },
    {
     "data": {
      "text/plain": [
       "3"
      ]
     },
     "metadata": {},
     "output_type": "display_data"
    },
    {
     "data": {
      "text/plain": [
       "kolimuddin1999google"
      ]
     },
     "metadata": {},
     "output_type": "display_data"
    },
    {
     "data": {
      "text/plain": [
       "google#kolimuddin@1999"
      ]
     },
     "metadata": {},
     "output_type": "display_data"
    },
    {
     "data": {
      "application/json": [
       "g",
       "o",
       "o",
       "g",
       "l",
       "e"
      ]
     },
     "metadata": {},
     "output_type": "display_data"
    },
    {
     "data": {
      "text/plain": [
       "g"
      ]
     },
     "metadata": {},
     "output_type": "display_data"
    },
    {
     "data": {
      "application/json": [
       "G",
       "o",
       "o",
       "g",
       "l",
       "e"
      ]
     },
     "metadata": {},
     "output_type": "display_data"
    },
    {
     "data": {
      "text/plain": [
       "Google"
      ]
     },
     "metadata": {},
     "output_type": "display_data"
    },
    {
     "data": {
      "text/plain": [
       "Google"
      ]
     },
     "metadata": {},
     "output_type": "display_data"
    },
    {
     "data": {
      "text/plain": [
       "4"
      ]
     },
     "metadata": {},
     "output_type": "display_data"
    }
   ],
   "source": [
    "arr =[]\n",
    "const obj = {\n",
    "    name: \"kolimuddin\" , birthYear: 1999 , siteName: \"google\"     \n",
    "}\n",
    "for(const prop in obj)\n",
    "{\n",
    "    console.log(obj[prop])\n",
    "    arr.push(obj[prop])\n",
    "}\n",
    "k=arr.join('')\n",
    "console.log(arr)\n",
    "console.log(arr.length)\n",
    "console.log(k)\n",
    "res = arr[2]+'#'+arr[0]+'@'+arr[1]\n",
    "console.log(res)\n",
    "\n",
    "v=obj.siteName.split('')\n",
    "console.log(v)\n",
    "l=v[0]\n",
    "console.log(l)\n",
    "v[0]=l.toUpperCase()\n",
    "// w= v.join('')\n",
    "// console.log(w)\n",
    "console.log(v)\n",
    "w= v.join('')\n",
    "console.log(w)\n",
    "obj['siteName'] =w\n",
    "console.log(obj['siteName'])\n",
    "n= obj['birthYear'].toString()\n",
    "console.log(n.length)\n"
   ]
  },
  {
   "cell_type": "code",
   "execution_count": 55,
   "metadata": {
    "dotnet_interactive": {
     "language": "javascript"
    },
    "polyglot_notebook": {
     "kernelName": "javascript"
    },
    "vscode": {
     "languageId": "polyglot-notebook"
    }
   },
   "outputs": [
    {
     "data": {
      "text/plain": [
       "invalid"
      ]
     },
     "metadata": {},
     "output_type": "display_data"
    }
   ],
   "source": [
    "function password(obj){\n",
    "    arr=[]\n",
    "    v=obj.siteName.split('')\n",
    "    \n",
    "    l=v[0]\n",
    "    \n",
    "    v[0]=l.toUpperCase()\n",
    "    \n",
    "    w= v.join('')\n",
    "    obj['siteName'] =w\n",
    "    n= obj['birthYear'].toString()\n",
    "    for(const prop in obj)\n",
    "        {\n",
    "            \n",
    "            arr.push(obj[prop])\n",
    "        }\n",
    "\n",
    "    if (arr.length==3 && n.length== 4){\n",
    "    \n",
    "    \n",
    "    res = arr[2]+'#'+arr[0]+'@'+arr[1]\n",
    "    return res\n",
    "}\n",
    "else{\n",
    "   return \"invalid\"\n",
    "\n",
    "}\n",
    "  \n",
    "    \n",
    "}\n",
    "\n",
    "j=password({ name: \"toky\", birthYear: 200, siteName: \"Facebook\" } \n",
    ")\n",
    "console.log(j)\n",
    "\n"
   ]
  },
  {
   "cell_type": "markdown",
   "metadata": {},
   "source": [
    "<h2>Problem 05: Monthly Savings of a Freelancer</h2>\n",
    "Freelancer Shahed receives several payments from clients every month. However, due to taxes and living costs, he struggles to save. You need to create a function named monthlySavings() to calculate Shahed's monthly savings based on his total payments and living costs.\n",
    "\n",
    "Input:\n",
    "\n",
    "The function will take two inputs:\n",
    "An array of all payments Shahed receives in a month.\n",
    "A number representing Shahed's living cost.\n",
    "Payments of 3000 or more will have a 20% tax deducted. After deducting taxes and living costs, the remaining amount will be Shahed's savings.\n",
    "\n",
    "Output:\n",
    "\n",
    "If the savings are 0 or more, the function will return the total savings as a number.\n",
    "If the savings are less than 0, the function will return the string \"earn more\".\n",
    "The function will return the string \"invalid input\" in the following cases:\n",
    "If the first parameter is not an array.\n",
    "If the second parameter is not a number.\n"
   ]
  },
  {
   "cell_type": "code",
   "execution_count": 77,
   "metadata": {
    "dotnet_interactive": {
     "language": "javascript"
    },
    "polyglot_notebook": {
     "kernelName": "javascript"
    },
    "vscode": {
     "languageId": "polyglot-notebook"
    }
   },
   "outputs": [
    {
     "data": {
      "text/plain": [
       "6500"
      ]
     },
     "metadata": {},
     "output_type": "display_data"
    },
    {
     "data": {
      "text/plain": [
       "1500"
      ]
     },
     "metadata": {},
     "output_type": "display_data"
    }
   ],
   "source": [
    "function monthlySavings(arr,num){\n",
    "    let inc = 0;\n",
    "    let tax = 0;\n",
    "    if(Array.isArray(arr)==false || typeof num != 'number'){\n",
    "    \n",
    "      return 'invalid input'\n",
    "    \n",
    "    }\n",
    "    else{\n",
    "    for(i=0;i<=arr.length-1;i++)\n",
    "    {\n",
    "        inc = inc + arr[i]\n",
    "        if(arr[i]>=3000){\n",
    "            \n",
    "            tax = arr[i]*(20/100)\n",
    "            inc = inc - tax\n",
    "            \n",
    "            }\n",
    "    \n",
    "    }\n",
    "    \n",
    "    console.log(inc) \n",
    "    \n",
    "        \n",
    "    total =inc - num;\n",
    "    if (total>=0)\n",
    "    {\n",
    "       \n",
    "        return total\n",
    "    \n",
    "    }\n",
    "    else{\n",
    "\n",
    "        return 'Earn More'\n",
    "    \n",
    "    }\n",
    "}\n",
    "    }\n",
    "    \n",
    "    k = monthlySavings([ 1000 , 2000 , 2500,1000] , 5000    )\n",
    "    console.log(k)"
   ]
  },
  {
   "cell_type": "code",
   "execution_count": 73,
   "metadata": {
    "dotnet_interactive": {
     "language": "javascript"
    },
    "polyglot_notebook": {
     "kernelName": "javascript"
    },
    "vscode": {
     "languageId": "polyglot-notebook"
    }
   },
   "outputs": [
    {
     "data": {
      "text/plain": [
       "string"
      ]
     },
     "metadata": {},
     "output_type": "display_data"
    }
   ],
   "source": [
    "\n"
   ]
  }
 ],
 "metadata": {
  "kernelspec": {
   "display_name": ".NET (C#)",
   "language": "C#",
   "name": ".net-csharp"
  },
  "language_info": {
   "name": "python"
  },
  "polyglot_notebook": {
   "kernelInfo": {
    "defaultKernelName": "csharp",
    "items": [
     {
      "aliases": [],
      "name": "csharp"
     }
    ]
   }
  }
 },
 "nbformat": 4,
 "nbformat_minor": 2
}
